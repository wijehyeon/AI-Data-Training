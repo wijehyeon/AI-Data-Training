{
 "cells": [
  {
   "cell_type": "code",
   "execution_count": 1,
   "metadata": {},
   "outputs": [],
   "source": [
    "S0 = 100.\n",
    "K = 105.\n",
    "T = 1.0\n",
    "r = 0.05\n",
    "sigma = 0.2\n"
   ]
  },
  {
   "cell_type": "code",
   "execution_count": 2,
   "metadata": {},
   "outputs": [],
   "source": [
    "#sale price decision algorithm using numpy\n",
    "from numpy import *\n",
    "\n",
    "I = 100000\n",
    "\n",
    "z = random.standard_normal(I)\n",
    "ST = S0 * exp((r - 0.5 * sigma ** 2) * T + sigma * sqrt(T) * z)\n",
    "hT = maximum(ST - K, 0)\n",
    "C0 = exp(-r * T) * sum(hT) / I"
   ]
  },
  {
   "cell_type": "code",
   "execution_count": 8,
   "metadata": {},
   "outputs": [
    {
     "name": "stdout",
     "output_type": "stream",
     "text": [
      "Value of the European Call Option 8.040\n"
     ]
    }
   ],
   "source": [
    "print(\"Value of the European Call Option %5.3f\" % C0 )"
   ]
  },
  {
   "cell_type": "code",
   "execution_count": 12,
   "metadata": {},
   "outputs": [],
   "source": [
    "import numpy as np\n",
    "import pandas as pd\n",
    "from pandas_datareader import data as web\n"
   ]
  },
  {
   "cell_type": "code",
   "execution_count": 15,
   "metadata": {},
   "outputs": [
    {
     "data": {
      "text/html": [
       "<div>\n",
       "<style scoped>\n",
       "    .dataframe tbody tr th:only-of-type {\n",
       "        vertical-align: middle;\n",
       "    }\n",
       "\n",
       "    .dataframe tbody tr th {\n",
       "        vertical-align: top;\n",
       "    }\n",
       "\n",
       "    .dataframe thead th {\n",
       "        text-align: right;\n",
       "    }\n",
       "</style>\n",
       "<table border=\"1\" class=\"dataframe\">\n",
       "  <thead>\n",
       "    <tr style=\"text-align: right;\">\n",
       "      <th></th>\n",
       "      <th>High</th>\n",
       "      <th>Low</th>\n",
       "      <th>Open</th>\n",
       "      <th>Close</th>\n",
       "      <th>Volume</th>\n",
       "      <th>Adj Close</th>\n",
       "    </tr>\n",
       "    <tr>\n",
       "      <th>Date</th>\n",
       "      <th></th>\n",
       "      <th></th>\n",
       "      <th></th>\n",
       "      <th></th>\n",
       "      <th></th>\n",
       "      <th></th>\n",
       "    </tr>\n",
       "  </thead>\n",
       "  <tbody>\n",
       "    <tr>\n",
       "      <th>2014-04-08</th>\n",
       "      <td>553.480408</td>\n",
       "      <td>540.127075</td>\n",
       "      <td>541.114380</td>\n",
       "      <td>553.380676</td>\n",
       "      <td>3151228.0</td>\n",
       "      <td>553.380676</td>\n",
       "    </tr>\n",
       "    <tr>\n",
       "      <th>2014-04-09</th>\n",
       "      <td>563.822021</td>\n",
       "      <td>551.436035</td>\n",
       "      <td>558.087769</td>\n",
       "      <td>562.595398</td>\n",
       "      <td>3330820.0</td>\n",
       "      <td>562.595398</td>\n",
       "    </tr>\n",
       "    <tr>\n",
       "      <th>2014-04-10</th>\n",
       "      <td>563.453064</td>\n",
       "      <td>538.421753</td>\n",
       "      <td>563.453064</td>\n",
       "      <td>539.468872</td>\n",
       "      <td>4036853.0</td>\n",
       "      <td>539.468872</td>\n",
       "    </tr>\n",
       "    <tr>\n",
       "      <th>2014-04-11</th>\n",
       "      <td>538.521484</td>\n",
       "      <td>525.088379</td>\n",
       "      <td>531.091858</td>\n",
       "      <td>529.147217</td>\n",
       "      <td>3924846.0</td>\n",
       "      <td>529.147217</td>\n",
       "    </tr>\n",
       "    <tr>\n",
       "      <th>2014-04-14</th>\n",
       "      <td>542.610291</td>\n",
       "      <td>528.110046</td>\n",
       "      <td>536.776306</td>\n",
       "      <td>531.061951</td>\n",
       "      <td>2575050.0</td>\n",
       "      <td>531.061951</td>\n",
       "    </tr>\n",
       "  </tbody>\n",
       "</table>\n",
       "</div>"
      ],
      "text/plain": [
       "                  High         Low        Open       Close     Volume  \\\n",
       "Date                                                                    \n",
       "2014-04-08  553.480408  540.127075  541.114380  553.380676  3151228.0   \n",
       "2014-04-09  563.822021  551.436035  558.087769  562.595398  3330820.0   \n",
       "2014-04-10  563.453064  538.421753  563.453064  539.468872  4036853.0   \n",
       "2014-04-11  538.521484  525.088379  531.091858  529.147217  3924846.0   \n",
       "2014-04-14  542.610291  528.110046  536.776306  531.061951  2575050.0   \n",
       "\n",
       "             Adj Close  \n",
       "Date                    \n",
       "2014-04-08  553.380676  \n",
       "2014-04-09  562.595398  \n",
       "2014-04-10  539.468872  \n",
       "2014-04-11  529.147217  \n",
       "2014-04-14  531.061951  "
      ]
     },
     "execution_count": 15,
     "metadata": {},
     "output_type": "execute_result"
    }
   ],
   "source": [
    "goog = web.DataReader('GOOG', data_source='yahoo', start='3/14/2009', end='4/14/2014')\n",
    "goog.tail()"
   ]
  },
  {
   "cell_type": "code",
   "execution_count": null,
   "metadata": {},
   "outputs": [],
   "source": []
  }
 ],
 "metadata": {
  "kernelspec": {
   "display_name": "Python 3",
   "language": "python",
   "name": "python3"
  },
  "language_info": {
   "codemirror_mode": {
    "name": "ipython",
    "version": 3
   },
   "file_extension": ".py",
   "mimetype": "text/x-python",
   "name": "python",
   "nbconvert_exporter": "python",
   "pygments_lexer": "ipython3",
   "version": "3.8.2"
  }
 },
 "nbformat": 4,
 "nbformat_minor": 4
}
